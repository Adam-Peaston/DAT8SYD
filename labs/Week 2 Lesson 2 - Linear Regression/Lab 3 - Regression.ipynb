{
 "cells": [
  {
   "cell_type": "markdown",
   "metadata": {},
   "source": [
    "# Data Science Course Week 2 - Lesson 2 \n",
    "# Introduction to Linear Regression\n"
   ]
  },
  {
   "cell_type": "markdown",
   "metadata": {},
   "source": [
    "Regression is the process of learning a mapping from a vector of input data to a quantitative output given a set of observations. For example, coordinates in a room to Wi-Fi signal strength, someone's Body Mass Index to their life expectancy or a stock's performance over the last 5 days to it's value tomorrow.\n",
    "\n",
    "There are numerous methods for addressing this problem, each with their own set of assumptions and behaviour. Some are ideal for tackling large volumes of data while others provide more informative probabilistic outputs.\n",
    "\n",
    "In this lab, we'll focus on Linear Regression; a good point of reference for many other regression techniques and still used widely around the world today due to their simplicity and favourable scaling characteristics."
   ]
  },
  {
   "cell_type": "markdown",
   "metadata": {},
   "source": [
    "We will be using [statsmodels](http://statsmodels.sourceforge.net/devel/examples/notebooks/generated/ols.html) for learning about linear regression. It covers the models better than in scikit when we are learning and want more insights into the model parameters. But we will mainly be using scikit learn for the rest of the course. "
   ]
  },
  {
   "cell_type": "markdown",
   "metadata": {},
   "source": [
    "# Class Workshop"
   ]
  },
  {
   "cell_type": "code",
   "execution_count": 1,
   "metadata": {
    "collapsed": false
   },
   "outputs": [],
   "source": [
    "# Import the libraries required\n",
    "import pandas as pd\n",
    "import statsmodels.formula.api as smf\n"
   ]
  },
  {
   "cell_type": "markdown",
   "metadata": {},
   "source": [
    "Here we are using a dataset of chicago house prices. The dataset is made up of houses that sold and several variables that describe the data. "
   ]
  },
  {
   "cell_type": "code",
   "execution_count": 2,
   "metadata": {
    "collapsed": false
   },
   "outputs": [],
   "source": [
    "# Read in data\n",
    "house_data = pd.read_csv(\"chicagohouseprices2.csv\", index_col=0)"
   ]
  },
  {
   "cell_type": "code",
   "execution_count": 6,
   "metadata": {
    "collapsed": false
   },
   "outputs": [
    {
     "data": {
      "text/html": [
       "<div>\n",
       "<table border=\"1\" class=\"dataframe\">\n",
       "  <thead>\n",
       "    <tr style=\"text-align: right;\">\n",
       "      <th></th>\n",
       "      <th>Price</th>\n",
       "      <th>Bath</th>\n",
       "      <th>CrimeIndex</th>\n",
       "      <th>MinutesToLoop</th>\n",
       "      <th>MilesToLake</th>\n",
       "      <th>Age</th>\n",
       "      <th>LotSizeSqft</th>\n",
       "      <th>HouseSizeSqft</th>\n",
       "      <th>SchoolIndex</th>\n",
       "      <th>EstimatedPrice</th>\n",
       "    </tr>\n",
       "  </thead>\n",
       "  <tbody>\n",
       "    <tr>\n",
       "      <th>count</th>\n",
       "      <td>2.190000e+02</td>\n",
       "      <td>70.000000</td>\n",
       "      <td>219.000000</td>\n",
       "      <td>219.000000</td>\n",
       "      <td>219.000000</td>\n",
       "      <td>219.000000</td>\n",
       "      <td>219.000000</td>\n",
       "      <td>219.000000</td>\n",
       "      <td>219.000000</td>\n",
       "      <td>2.190000e+02</td>\n",
       "    </tr>\n",
       "    <tr>\n",
       "      <th>mean</th>\n",
       "      <td>4.834311e+05</td>\n",
       "      <td>2.271429</td>\n",
       "      <td>4.663607</td>\n",
       "      <td>9.698630</td>\n",
       "      <td>3.420411</td>\n",
       "      <td>29.424658</td>\n",
       "      <td>873.200913</td>\n",
       "      <td>699.977169</td>\n",
       "      <td>49.197717</td>\n",
       "      <td>4.862191e+05</td>\n",
       "    </tr>\n",
       "    <tr>\n",
       "      <th>std</th>\n",
       "      <td>4.001249e+05</td>\n",
       "      <td>0.883364</td>\n",
       "      <td>1.418146</td>\n",
       "      <td>2.898995</td>\n",
       "      <td>0.352522</td>\n",
       "      <td>49.155880</td>\n",
       "      <td>1392.893683</td>\n",
       "      <td>1175.278922</td>\n",
       "      <td>18.554525</td>\n",
       "      <td>3.978582e+05</td>\n",
       "    </tr>\n",
       "    <tr>\n",
       "      <th>min</th>\n",
       "      <td>2.450000e+04</td>\n",
       "      <td>1.000000</td>\n",
       "      <td>1.090000</td>\n",
       "      <td>6.000000</td>\n",
       "      <td>2.770000</td>\n",
       "      <td>0.000000</td>\n",
       "      <td>0.000000</td>\n",
       "      <td>0.000000</td>\n",
       "      <td>16.700000</td>\n",
       "      <td>2.883650e+04</td>\n",
       "    </tr>\n",
       "    <tr>\n",
       "      <th>25%</th>\n",
       "      <td>3.190000e+05</td>\n",
       "      <td>2.000000</td>\n",
       "      <td>3.940000</td>\n",
       "      <td>8.000000</td>\n",
       "      <td>3.150000</td>\n",
       "      <td>0.000000</td>\n",
       "      <td>0.000000</td>\n",
       "      <td>0.000000</td>\n",
       "      <td>36.100000</td>\n",
       "      <td>3.074488e+05</td>\n",
       "    </tr>\n",
       "    <tr>\n",
       "      <th>50%</th>\n",
       "      <td>3.900000e+05</td>\n",
       "      <td>2.000000</td>\n",
       "      <td>4.930000</td>\n",
       "      <td>9.000000</td>\n",
       "      <td>3.400000</td>\n",
       "      <td>0.000000</td>\n",
       "      <td>0.000000</td>\n",
       "      <td>0.000000</td>\n",
       "      <td>50.000000</td>\n",
       "      <td>3.919800e+05</td>\n",
       "    </tr>\n",
       "    <tr>\n",
       "      <th>75%</th>\n",
       "      <td>5.125000e+05</td>\n",
       "      <td>3.000000</td>\n",
       "      <td>5.580000</td>\n",
       "      <td>10.000000</td>\n",
       "      <td>3.685000</td>\n",
       "      <td>41.000000</td>\n",
       "      <td>2614.000000</td>\n",
       "      <td>1344.000000</td>\n",
       "      <td>59.500000</td>\n",
       "      <td>5.324750e+05</td>\n",
       "    </tr>\n",
       "    <tr>\n",
       "      <th>max</th>\n",
       "      <td>3.686000e+06</td>\n",
       "      <td>4.000000</td>\n",
       "      <td>8.080000</td>\n",
       "      <td>22.000000</td>\n",
       "      <td>4.200000</td>\n",
       "      <td>131.000000</td>\n",
       "      <td>7405.000000</td>\n",
       "      <td>6422.000000</td>\n",
       "      <td>93.900000</td>\n",
       "      <td>3.973508e+06</td>\n",
       "    </tr>\n",
       "  </tbody>\n",
       "</table>\n",
       "</div>"
      ],
      "text/plain": [
       "              Price       Bath  CrimeIndex  MinutesToLoop  MilesToLake  \\\n",
       "count  2.190000e+02  70.000000  219.000000     219.000000   219.000000   \n",
       "mean   4.834311e+05   2.271429    4.663607       9.698630     3.420411   \n",
       "std    4.001249e+05   0.883364    1.418146       2.898995     0.352522   \n",
       "min    2.450000e+04   1.000000    1.090000       6.000000     2.770000   \n",
       "25%    3.190000e+05   2.000000    3.940000       8.000000     3.150000   \n",
       "50%    3.900000e+05   2.000000    4.930000       9.000000     3.400000   \n",
       "75%    5.125000e+05   3.000000    5.580000      10.000000     3.685000   \n",
       "max    3.686000e+06   4.000000    8.080000      22.000000     4.200000   \n",
       "\n",
       "              Age  LotSizeSqft  HouseSizeSqft  SchoolIndex  EstimatedPrice  \n",
       "count  219.000000   219.000000     219.000000   219.000000    2.190000e+02  \n",
       "mean    29.424658   873.200913     699.977169    49.197717    4.862191e+05  \n",
       "std     49.155880  1392.893683    1175.278922    18.554525    3.978582e+05  \n",
       "min      0.000000     0.000000       0.000000    16.700000    2.883650e+04  \n",
       "25%      0.000000     0.000000       0.000000    36.100000    3.074488e+05  \n",
       "50%      0.000000     0.000000       0.000000    50.000000    3.919800e+05  \n",
       "75%     41.000000  2614.000000    1344.000000    59.500000    5.324750e+05  \n",
       "max    131.000000  7405.000000    6422.000000    93.900000    3.973508e+06  "
      ]
     },
     "execution_count": 6,
     "metadata": {},
     "output_type": "execute_result"
    }
   ],
   "source": [
    "house_data.describe()"
   ]
  },
  {
   "cell_type": "code",
   "execution_count": 3,
   "metadata": {
    "collapsed": false
   },
   "outputs": [
    {
     "data": {
      "text/plain": [
       "Address             0\n",
       "Neighborhood        0\n",
       "HouseType           3\n",
       "Price               0\n",
       "Bath              149\n",
       "CrimeIndex          0\n",
       "MinutesToLoop       0\n",
       "MilesToLake         0\n",
       "Age                 0\n",
       "LotSizeSqft         0\n",
       "HouseSizeSqft       0\n",
       "SchoolIndex         0\n",
       "EstimatedPrice      0\n",
       "dtype: int64"
      ]
     },
     "execution_count": 3,
     "metadata": {},
     "output_type": "execute_result"
    }
   ],
   "source": [
    "# do we have any missing data?\n",
    "house_data.isnull().sum() "
   ]
  },
  {
   "cell_type": "code",
   "execution_count": 4,
   "metadata": {
    "collapsed": false
   },
   "outputs": [
    {
     "data": {
      "text/html": [
       "<div>\n",
       "<table border=\"1\" class=\"dataframe\">\n",
       "  <thead>\n",
       "    <tr style=\"text-align: right;\">\n",
       "      <th></th>\n",
       "      <th>Price</th>\n",
       "      <th>Bath</th>\n",
       "      <th>CrimeIndex</th>\n",
       "      <th>MinutesToLoop</th>\n",
       "      <th>MilesToLake</th>\n",
       "      <th>Age</th>\n",
       "      <th>LotSizeSqft</th>\n",
       "      <th>HouseSizeSqft</th>\n",
       "      <th>SchoolIndex</th>\n",
       "      <th>EstimatedPrice</th>\n",
       "    </tr>\n",
       "  </thead>\n",
       "  <tbody>\n",
       "    <tr>\n",
       "      <th>count</th>\n",
       "      <td>2.190000e+02</td>\n",
       "      <td>70.000000</td>\n",
       "      <td>219.000000</td>\n",
       "      <td>219.000000</td>\n",
       "      <td>219.000000</td>\n",
       "      <td>219.000000</td>\n",
       "      <td>219.000000</td>\n",
       "      <td>219.000000</td>\n",
       "      <td>219.000000</td>\n",
       "      <td>2.190000e+02</td>\n",
       "    </tr>\n",
       "    <tr>\n",
       "      <th>mean</th>\n",
       "      <td>4.834311e+05</td>\n",
       "      <td>2.271429</td>\n",
       "      <td>4.663607</td>\n",
       "      <td>9.698630</td>\n",
       "      <td>3.420411</td>\n",
       "      <td>29.424658</td>\n",
       "      <td>873.200913</td>\n",
       "      <td>699.977169</td>\n",
       "      <td>49.197717</td>\n",
       "      <td>4.862191e+05</td>\n",
       "    </tr>\n",
       "    <tr>\n",
       "      <th>std</th>\n",
       "      <td>4.001249e+05</td>\n",
       "      <td>0.883364</td>\n",
       "      <td>1.418146</td>\n",
       "      <td>2.898995</td>\n",
       "      <td>0.352522</td>\n",
       "      <td>49.155880</td>\n",
       "      <td>1392.893683</td>\n",
       "      <td>1175.278922</td>\n",
       "      <td>18.554525</td>\n",
       "      <td>3.978582e+05</td>\n",
       "    </tr>\n",
       "    <tr>\n",
       "      <th>min</th>\n",
       "      <td>2.450000e+04</td>\n",
       "      <td>1.000000</td>\n",
       "      <td>1.090000</td>\n",
       "      <td>6.000000</td>\n",
       "      <td>2.770000</td>\n",
       "      <td>0.000000</td>\n",
       "      <td>0.000000</td>\n",
       "      <td>0.000000</td>\n",
       "      <td>16.700000</td>\n",
       "      <td>2.883650e+04</td>\n",
       "    </tr>\n",
       "    <tr>\n",
       "      <th>25%</th>\n",
       "      <td>3.190000e+05</td>\n",
       "      <td>2.000000</td>\n",
       "      <td>3.940000</td>\n",
       "      <td>8.000000</td>\n",
       "      <td>3.150000</td>\n",
       "      <td>0.000000</td>\n",
       "      <td>0.000000</td>\n",
       "      <td>0.000000</td>\n",
       "      <td>36.100000</td>\n",
       "      <td>3.074488e+05</td>\n",
       "    </tr>\n",
       "    <tr>\n",
       "      <th>50%</th>\n",
       "      <td>3.900000e+05</td>\n",
       "      <td>2.000000</td>\n",
       "      <td>4.930000</td>\n",
       "      <td>9.000000</td>\n",
       "      <td>3.400000</td>\n",
       "      <td>0.000000</td>\n",
       "      <td>0.000000</td>\n",
       "      <td>0.000000</td>\n",
       "      <td>50.000000</td>\n",
       "      <td>3.919800e+05</td>\n",
       "    </tr>\n",
       "    <tr>\n",
       "      <th>75%</th>\n",
       "      <td>5.125000e+05</td>\n",
       "      <td>3.000000</td>\n",
       "      <td>5.580000</td>\n",
       "      <td>10.000000</td>\n",
       "      <td>3.685000</td>\n",
       "      <td>41.000000</td>\n",
       "      <td>2614.000000</td>\n",
       "      <td>1344.000000</td>\n",
       "      <td>59.500000</td>\n",
       "      <td>5.324750e+05</td>\n",
       "    </tr>\n",
       "    <tr>\n",
       "      <th>max</th>\n",
       "      <td>3.686000e+06</td>\n",
       "      <td>4.000000</td>\n",
       "      <td>8.080000</td>\n",
       "      <td>22.000000</td>\n",
       "      <td>4.200000</td>\n",
       "      <td>131.000000</td>\n",
       "      <td>7405.000000</td>\n",
       "      <td>6422.000000</td>\n",
       "      <td>93.900000</td>\n",
       "      <td>3.973508e+06</td>\n",
       "    </tr>\n",
       "  </tbody>\n",
       "</table>\n",
       "</div>"
      ],
      "text/plain": [
       "              Price       Bath  CrimeIndex  MinutesToLoop  MilesToLake  \\\n",
       "count  2.190000e+02  70.000000  219.000000     219.000000   219.000000   \n",
       "mean   4.834311e+05   2.271429    4.663607       9.698630     3.420411   \n",
       "std    4.001249e+05   0.883364    1.418146       2.898995     0.352522   \n",
       "min    2.450000e+04   1.000000    1.090000       6.000000     2.770000   \n",
       "25%    3.190000e+05   2.000000    3.940000       8.000000     3.150000   \n",
       "50%    3.900000e+05   2.000000    4.930000       9.000000     3.400000   \n",
       "75%    5.125000e+05   3.000000    5.580000      10.000000     3.685000   \n",
       "max    3.686000e+06   4.000000    8.080000      22.000000     4.200000   \n",
       "\n",
       "              Age  LotSizeSqft  HouseSizeSqft  SchoolIndex  EstimatedPrice  \n",
       "count  219.000000   219.000000     219.000000   219.000000    2.190000e+02  \n",
       "mean    29.424658   873.200913     699.977169    49.197717    4.862191e+05  \n",
       "std     49.155880  1392.893683    1175.278922    18.554525    3.978582e+05  \n",
       "min      0.000000     0.000000       0.000000    16.700000    2.883650e+04  \n",
       "25%      0.000000     0.000000       0.000000    36.100000    3.074488e+05  \n",
       "50%      0.000000     0.000000       0.000000    50.000000    3.919800e+05  \n",
       "75%     41.000000  2614.000000    1344.000000    59.500000    5.324750e+05  \n",
       "max    131.000000  7405.000000    6422.000000    93.900000    3.973508e+06  "
      ]
     },
     "execution_count": 4,
     "metadata": {},
     "output_type": "execute_result"
    }
   ],
   "source": [
    "# Summarise the data\n",
    "house_data.describe()\n",
    "#house_data.describe(include=['object'])\n",
    "#house_data.describe(include='all')"
   ]
  },
  {
   "cell_type": "code",
   "execution_count": 5,
   "metadata": {
    "collapsed": false,
    "scrolled": true
   },
   "outputs": [
    {
     "data": {
      "text/html": [
       "<div>\n",
       "<table border=\"1\" class=\"dataframe\">\n",
       "  <thead>\n",
       "    <tr style=\"text-align: right;\">\n",
       "      <th></th>\n",
       "      <th>Price</th>\n",
       "      <th>Bath</th>\n",
       "      <th>CrimeIndex</th>\n",
       "      <th>MinutesToLoop</th>\n",
       "      <th>MilesToLake</th>\n",
       "      <th>Age</th>\n",
       "      <th>LotSizeSqft</th>\n",
       "      <th>HouseSizeSqft</th>\n",
       "      <th>SchoolIndex</th>\n",
       "      <th>EstimatedPrice</th>\n",
       "    </tr>\n",
       "  </thead>\n",
       "  <tbody>\n",
       "    <tr>\n",
       "      <th>Price</th>\n",
       "      <td>1.000000</td>\n",
       "      <td>0.113943</td>\n",
       "      <td>0.118667</td>\n",
       "      <td>-0.034644</td>\n",
       "      <td>-0.072433</td>\n",
       "      <td>0.237720</td>\n",
       "      <td>0.443341</td>\n",
       "      <td>0.456272</td>\n",
       "      <td>-0.072403</td>\n",
       "      <td>0.983784</td>\n",
       "    </tr>\n",
       "    <tr>\n",
       "      <th>Bath</th>\n",
       "      <td>0.113943</td>\n",
       "      <td>1.000000</td>\n",
       "      <td>0.163785</td>\n",
       "      <td>0.166330</td>\n",
       "      <td>-0.157517</td>\n",
       "      <td>-0.039220</td>\n",
       "      <td>-0.029979</td>\n",
       "      <td>0.698526</td>\n",
       "      <td>-0.047992</td>\n",
       "      <td>0.105632</td>\n",
       "    </tr>\n",
       "    <tr>\n",
       "      <th>CrimeIndex</th>\n",
       "      <td>0.118667</td>\n",
       "      <td>0.163785</td>\n",
       "      <td>1.000000</td>\n",
       "      <td>0.194745</td>\n",
       "      <td>0.102382</td>\n",
       "      <td>-0.036644</td>\n",
       "      <td>-0.008807</td>\n",
       "      <td>0.070952</td>\n",
       "      <td>-0.100256</td>\n",
       "      <td>0.122793</td>\n",
       "    </tr>\n",
       "    <tr>\n",
       "      <th>MinutesToLoop</th>\n",
       "      <td>-0.034644</td>\n",
       "      <td>0.166330</td>\n",
       "      <td>0.194745</td>\n",
       "      <td>1.000000</td>\n",
       "      <td>0.374829</td>\n",
       "      <td>-0.023820</td>\n",
       "      <td>-0.053292</td>\n",
       "      <td>-0.032437</td>\n",
       "      <td>-0.196728</td>\n",
       "      <td>-0.034185</td>\n",
       "    </tr>\n",
       "    <tr>\n",
       "      <th>MilesToLake</th>\n",
       "      <td>-0.072433</td>\n",
       "      <td>-0.157517</td>\n",
       "      <td>0.102382</td>\n",
       "      <td>0.374829</td>\n",
       "      <td>1.000000</td>\n",
       "      <td>-0.047087</td>\n",
       "      <td>0.006240</td>\n",
       "      <td>-0.046517</td>\n",
       "      <td>-0.205966</td>\n",
       "      <td>-0.082604</td>\n",
       "    </tr>\n",
       "    <tr>\n",
       "      <th>Age</th>\n",
       "      <td>0.237720</td>\n",
       "      <td>-0.039220</td>\n",
       "      <td>-0.036644</td>\n",
       "      <td>-0.023820</td>\n",
       "      <td>-0.047087</td>\n",
       "      <td>1.000000</td>\n",
       "      <td>0.716774</td>\n",
       "      <td>0.645147</td>\n",
       "      <td>-0.029953</td>\n",
       "      <td>0.255628</td>\n",
       "    </tr>\n",
       "    <tr>\n",
       "      <th>LotSizeSqft</th>\n",
       "      <td>0.443341</td>\n",
       "      <td>-0.029979</td>\n",
       "      <td>-0.008807</td>\n",
       "      <td>-0.053292</td>\n",
       "      <td>0.006240</td>\n",
       "      <td>0.716774</td>\n",
       "      <td>1.000000</td>\n",
       "      <td>0.828598</td>\n",
       "      <td>-0.055458</td>\n",
       "      <td>0.454939</td>\n",
       "    </tr>\n",
       "    <tr>\n",
       "      <th>HouseSizeSqft</th>\n",
       "      <td>0.456272</td>\n",
       "      <td>0.698526</td>\n",
       "      <td>0.070952</td>\n",
       "      <td>-0.032437</td>\n",
       "      <td>-0.046517</td>\n",
       "      <td>0.645147</td>\n",
       "      <td>0.828598</td>\n",
       "      <td>1.000000</td>\n",
       "      <td>-0.023378</td>\n",
       "      <td>0.471783</td>\n",
       "    </tr>\n",
       "    <tr>\n",
       "      <th>SchoolIndex</th>\n",
       "      <td>-0.072403</td>\n",
       "      <td>-0.047992</td>\n",
       "      <td>-0.100256</td>\n",
       "      <td>-0.196728</td>\n",
       "      <td>-0.205966</td>\n",
       "      <td>-0.029953</td>\n",
       "      <td>-0.055458</td>\n",
       "      <td>-0.023378</td>\n",
       "      <td>1.000000</td>\n",
       "      <td>-0.073825</td>\n",
       "    </tr>\n",
       "    <tr>\n",
       "      <th>EstimatedPrice</th>\n",
       "      <td>0.983784</td>\n",
       "      <td>0.105632</td>\n",
       "      <td>0.122793</td>\n",
       "      <td>-0.034185</td>\n",
       "      <td>-0.082604</td>\n",
       "      <td>0.255628</td>\n",
       "      <td>0.454939</td>\n",
       "      <td>0.471783</td>\n",
       "      <td>-0.073825</td>\n",
       "      <td>1.000000</td>\n",
       "    </tr>\n",
       "  </tbody>\n",
       "</table>\n",
       "</div>"
      ],
      "text/plain": [
       "                   Price      Bath  CrimeIndex  MinutesToLoop  MilesToLake  \\\n",
       "Price           1.000000  0.113943    0.118667      -0.034644    -0.072433   \n",
       "Bath            0.113943  1.000000    0.163785       0.166330    -0.157517   \n",
       "CrimeIndex      0.118667  0.163785    1.000000       0.194745     0.102382   \n",
       "MinutesToLoop  -0.034644  0.166330    0.194745       1.000000     0.374829   \n",
       "MilesToLake    -0.072433 -0.157517    0.102382       0.374829     1.000000   \n",
       "Age             0.237720 -0.039220   -0.036644      -0.023820    -0.047087   \n",
       "LotSizeSqft     0.443341 -0.029979   -0.008807      -0.053292     0.006240   \n",
       "HouseSizeSqft   0.456272  0.698526    0.070952      -0.032437    -0.046517   \n",
       "SchoolIndex    -0.072403 -0.047992   -0.100256      -0.196728    -0.205966   \n",
       "EstimatedPrice  0.983784  0.105632    0.122793      -0.034185    -0.082604   \n",
       "\n",
       "                     Age  LotSizeSqft  HouseSizeSqft  SchoolIndex  \\\n",
       "Price           0.237720     0.443341       0.456272    -0.072403   \n",
       "Bath           -0.039220    -0.029979       0.698526    -0.047992   \n",
       "CrimeIndex     -0.036644    -0.008807       0.070952    -0.100256   \n",
       "MinutesToLoop  -0.023820    -0.053292      -0.032437    -0.196728   \n",
       "MilesToLake    -0.047087     0.006240      -0.046517    -0.205966   \n",
       "Age             1.000000     0.716774       0.645147    -0.029953   \n",
       "LotSizeSqft     0.716774     1.000000       0.828598    -0.055458   \n",
       "HouseSizeSqft   0.645147     0.828598       1.000000    -0.023378   \n",
       "SchoolIndex    -0.029953    -0.055458      -0.023378     1.000000   \n",
       "EstimatedPrice  0.255628     0.454939       0.471783    -0.073825   \n",
       "\n",
       "                EstimatedPrice  \n",
       "Price                 0.983784  \n",
       "Bath                  0.105632  \n",
       "CrimeIndex            0.122793  \n",
       "MinutesToLoop        -0.034185  \n",
       "MilesToLake          -0.082604  \n",
       "Age                   0.255628  \n",
       "LotSizeSqft           0.454939  \n",
       "HouseSizeSqft         0.471783  \n",
       "SchoolIndex          -0.073825  \n",
       "EstimatedPrice        1.000000  "
      ]
     },
     "execution_count": 5,
     "metadata": {},
     "output_type": "execute_result"
    }
   ],
   "source": [
    "# Look for any linear correlations in the data\n",
    "house_data.corr()"
   ]
  },
  {
   "cell_type": "code",
   "execution_count": 6,
   "metadata": {
    "collapsed": false
   },
   "outputs": [
    {
     "data": {
      "text/plain": [
       "array([[<matplotlib.axes._subplots.AxesSubplot object at 0x000002D2126BA048>,\n",
       "        <matplotlib.axes._subplots.AxesSubplot object at 0x000002D212ADF6D8>,\n",
       "        <matplotlib.axes._subplots.AxesSubplot object at 0x000002D212AEA978>,\n",
       "        <matplotlib.axes._subplots.AxesSubplot object at 0x000002D212BA2208>,\n",
       "        <matplotlib.axes._subplots.AxesSubplot object at 0x000002D212C0B710>,\n",
       "        <matplotlib.axes._subplots.AxesSubplot object at 0x000002D212C0B748>,\n",
       "        <matplotlib.axes._subplots.AxesSubplot object at 0x000002D212CCA2B0>,\n",
       "        <matplotlib.axes._subplots.AxesSubplot object at 0x000002D212D1EBA8>,\n",
       "        <matplotlib.axes._subplots.AxesSubplot object at 0x000002D212D84BE0>,\n",
       "        <matplotlib.axes._subplots.AxesSubplot object at 0x000002D212DE09E8>],\n",
       "       [<matplotlib.axes._subplots.AxesSubplot object at 0x000002D212E45B38>,\n",
       "        <matplotlib.axes._subplots.AxesSubplot object at 0x000002D212EA0828>,\n",
       "        <matplotlib.axes._subplots.AxesSubplot object at 0x000002D212F06C50>,\n",
       "        <matplotlib.axes._subplots.AxesSubplot object at 0x000002D212F5D668>,\n",
       "        <matplotlib.axes._subplots.AxesSubplot object at 0x000002D212FC9B38>,\n",
       "        <matplotlib.axes._subplots.AxesSubplot object at 0x000002D212FE61D0>,\n",
       "        <matplotlib.axes._subplots.AxesSubplot object at 0x000002D21308A898>,\n",
       "        <matplotlib.axes._subplots.AxesSubplot object at 0x000002D2130F1BA8>,\n",
       "        <matplotlib.axes._subplots.AxesSubplot object at 0x000002D21314C5F8>,\n",
       "        <matplotlib.axes._subplots.AxesSubplot object at 0x000002D2131B5908>],\n",
       "       [<matplotlib.axes._subplots.AxesSubplot object at 0x000002D21320D470>,\n",
       "        <matplotlib.axes._subplots.AxesSubplot object at 0x000002D2132763C8>,\n",
       "        <matplotlib.axes._subplots.AxesSubplot object at 0x000002D2132D1E10>,\n",
       "        <matplotlib.axes._subplots.AxesSubplot object at 0x000002D21333F198>,\n",
       "        <matplotlib.axes._subplots.AxesSubplot object at 0x000002D213377860>,\n",
       "        <matplotlib.axes._subplots.AxesSubplot object at 0x000002D2133E29B0>,\n",
       "        <matplotlib.axes._subplots.AxesSubplot object at 0x000002D21343A6A0>,\n",
       "        <matplotlib.axes._subplots.AxesSubplot object at 0x000002D2134A5C88>,\n",
       "        <matplotlib.axes._subplots.AxesSubplot object at 0x000002D2134C2358>,\n",
       "        <matplotlib.axes._subplots.AxesSubplot object at 0x000002D2135679E8>],\n",
       "       [<matplotlib.axes._subplots.AxesSubplot object at 0x000002D2135CECF8>,\n",
       "        <matplotlib.axes._subplots.AxesSubplot object at 0x000002D213628630>,\n",
       "        <matplotlib.axes._subplots.AxesSubplot object at 0x000002D214661940>,\n",
       "        <matplotlib.axes._subplots.AxesSubplot object at 0x000002D2146BA4A8>,\n",
       "        <matplotlib.axes._subplots.AxesSubplot object at 0x000002D214724400>,\n",
       "        <matplotlib.axes._subplots.AxesSubplot object at 0x000002D21477CE48>,\n",
       "        <matplotlib.axes._subplots.AxesSubplot object at 0x000002D2147EC1D0>,\n",
       "        <matplotlib.axes._subplots.AxesSubplot object at 0x000002D214848550>,\n",
       "        <matplotlib.axes._subplots.AxesSubplot object at 0x000002D2148ADA58>,\n",
       "        <matplotlib.axes._subplots.AxesSubplot object at 0x000002D214908390>],\n",
       "       [<matplotlib.axes._subplots.AxesSubplot object at 0x000002D21496F978>,\n",
       "        <matplotlib.axes._subplots.AxesSubplot object at 0x000002D2149CD1D0>,\n",
       "        <matplotlib.axes._subplots.AxesSubplot object at 0x000002D214A316A0>,\n",
       "        <matplotlib.axes._subplots.AxesSubplot object at 0x000002D214A50C18>,\n",
       "        <matplotlib.axes._subplots.AxesSubplot object at 0x000002D214AF4518>,\n",
       "        <matplotlib.axes._subplots.AxesSubplot object at 0x000002D214B59828>,\n",
       "        <matplotlib.axes._subplots.AxesSubplot object at 0x000002D214BB7160>,\n",
       "        <matplotlib.axes._subplots.AxesSubplot object at 0x000002D214C1F470>,\n",
       "        <matplotlib.axes._subplots.AxesSubplot object at 0x000002D214C5B8D0>,\n",
       "        <matplotlib.axes._subplots.AxesSubplot object at 0x000002D214CC3DD8>],\n",
       "       [<matplotlib.axes._subplots.AxesSubplot object at 0x000002D214D1FF98>,\n",
       "        <matplotlib.axes._subplots.AxesSubplot object at 0x000002D214D8D4E0>,\n",
       "        <matplotlib.axes._subplots.AxesSubplot object at 0x000002D214DDFDD8>,\n",
       "        <matplotlib.axes._subplots.AxesSubplot object at 0x000002D214E4E400>,\n",
       "        <matplotlib.axes._subplots.AxesSubplot object at 0x000002D214E9CC18>,\n",
       "        <matplotlib.axes._subplots.AxesSubplot object at 0x000002D214F12128>,\n",
       "        <matplotlib.axes._subplots.AxesSubplot object at 0x000002D214F2EC88>,\n",
       "        <matplotlib.axes._subplots.AxesSubplot object at 0x000002D214FCAF60>,\n",
       "        <matplotlib.axes._subplots.AxesSubplot object at 0x000002D21503A2B0>,\n",
       "        <matplotlib.axes._subplots.AxesSubplot object at 0x000002D21508BBA8>],\n",
       "       [<matplotlib.axes._subplots.AxesSubplot object at 0x000002D2150F6EB8>,\n",
       "        <matplotlib.axes._subplots.AxesSubplot object at 0x000002D21514FA20>,\n",
       "        <matplotlib.axes._subplots.AxesSubplot object at 0x000002D2151B8978>,\n",
       "        <matplotlib.axes._subplots.AxesSubplot object at 0x000002D215219400>,\n",
       "        <matplotlib.axes._subplots.AxesSubplot object at 0x000002D21527F748>,\n",
       "        <matplotlib.axes._subplots.AxesSubplot object at 0x000002D2152DAAC8>,\n",
       "        <matplotlib.axes._subplots.AxesSubplot object at 0x000002D215341FD0>,\n",
       "        <matplotlib.axes._subplots.AxesSubplot object at 0x000002D21539C908>,\n",
       "        <matplotlib.axes._subplots.AxesSubplot object at 0x000002D215402EF0>,\n",
       "        <matplotlib.axes._subplots.AxesSubplot object at 0x000002D21545F748>],\n",
       "       [<matplotlib.axes._subplots.AxesSubplot object at 0x000002D2154C6C18>,\n",
       "        <matplotlib.axes._subplots.AxesSubplot object at 0x000002D2154E42B0>,\n",
       "        <matplotlib.axes._subplots.AxesSubplot object at 0x000002D2155734E0>,\n",
       "        <matplotlib.axes._subplots.AxesSubplot object at 0x000002D2155DC9E8>,\n",
       "        <matplotlib.axes._subplots.AxesSubplot object at 0x000002D2156359B0>,\n",
       "        <matplotlib.axes._subplots.AxesSubplot object at 0x000002D2156A3898>,\n",
       "        <matplotlib.axes._subplots.AxesSubplot object at 0x000002D2156F87F0>,\n",
       "        <matplotlib.axes._subplots.AxesSubplot object at 0x000002D21575D828>,\n",
       "        <matplotlib.axes._subplots.AxesSubplot object at 0x000002D2157C01D0>,\n",
       "        <matplotlib.axes._subplots.AxesSubplot object at 0x000002D21582B518>],\n",
       "       [<matplotlib.axes._subplots.AxesSubplot object at 0x000002D215884898>,\n",
       "        <matplotlib.axes._subplots.AxesSubplot object at 0x000002D2158E8DA0>,\n",
       "        <matplotlib.axes._subplots.AxesSubplot object at 0x000002D2159456D8>,\n",
       "        <matplotlib.axes._subplots.AxesSubplot object at 0x000002D2159ABCC0>,\n",
       "        <matplotlib.axes._subplots.AxesSubplot object at 0x000002D215A09518>,\n",
       "        <matplotlib.axes._subplots.AxesSubplot object at 0x000002D215A6F9E8>,\n",
       "        <matplotlib.axes._subplots.AxesSubplot object at 0x000002D215A8C080>,\n",
       "        <matplotlib.axes._subplots.AxesSubplot object at 0x000002D215B30860>,\n",
       "        <matplotlib.axes._subplots.AxesSubplot object at 0x000002D215B95B70>,\n",
       "        <matplotlib.axes._subplots.AxesSubplot object at 0x000002D215BF24A8>],\n",
       "       [<matplotlib.axes._subplots.AxesSubplot object at 0x000002D215C5A7B8>,\n",
       "        <matplotlib.axes._subplots.AxesSubplot object at 0x000002D215CB5320>,\n",
       "        <matplotlib.axes._subplots.AxesSubplot object at 0x000002D215D1D278>,\n",
       "        <matplotlib.axes._subplots.AxesSubplot object at 0x000002D215D77CC0>,\n",
       "        <matplotlib.axes._subplots.AxesSubplot object at 0x000002D215DE6048>,\n",
       "        <matplotlib.axes._subplots.AxesSubplot object at 0x000002D215E403C8>,\n",
       "        <matplotlib.axes._subplots.AxesSubplot object at 0x000002D215EA68D0>,\n",
       "        <matplotlib.axes._subplots.AxesSubplot object at 0x000002D215F01208>,\n",
       "        <matplotlib.axes._subplots.AxesSubplot object at 0x000002D215F687F0>,\n",
       "        <matplotlib.axes._subplots.AxesSubplot object at 0x000002D215FB6EB8>]], dtype=object)"
      ]
     },
     "execution_count": 6,
     "metadata": {},
     "output_type": "execute_result"
    }
   ],
   "source": [
    "# Plot each variable against each other \n",
    "# scroll down past the subplot information\n",
    "pd.scatter_matrix(house_data, figsize=(15,15))"
   ]
  },
  {
   "cell_type": "markdown",
   "metadata": {},
   "source": [
    "### Questions?\n",
    "\n",
    "- Can you describe the data set - give a summary of what's happening?\n",
    "- What looks to be affecting house prices from our initial inspection?\n",
    "- What is the type of relationship in those variables affecting price?"
   ]
  },
  {
   "cell_type": "code",
   "execution_count": 21,
   "metadata": {
    "collapsed": false
   },
   "outputs": [
    {
     "data": {
      "text/plain": [
       "Intercept        777891.349946\n",
       "Bath             -74553.160263\n",
       "HouseSizeSqft       180.831003\n",
       "Age               -1382.040467\n",
       "SchoolIndex       -3436.889913\n",
       "dtype: float64"
      ]
     },
     "execution_count": 21,
     "metadata": {},
     "output_type": "execute_result"
    }
   ],
   "source": [
    "# create a fitted model in one line\n",
    "lm = smf.ols(formula='Price ~ Bath + HouseSizeSqft + Age + SchoolIndex', data=house_data).fit()\n",
    "\n",
    "# print the coefficients!\n",
    "lm.params"
   ]
  },
  {
   "cell_type": "markdown",
   "metadata": {},
   "source": [
    "The summary function provided by the statsmodel library presents lots of useful information about the resulting model.\n",
    "\n",
    "Key items to pay attention to are:\n",
    "- R-squared\n",
    "- Adj. R-Squared\n",
    "- coef (for each variable)"
   ]
  },
  {
   "cell_type": "code",
   "execution_count": 11,
   "metadata": {
    "collapsed": false
   },
   "outputs": [
    {
     "data": {
      "text/html": [
       "<table class=\"simpletable\">\n",
       "<caption>OLS Regression Results</caption>\n",
       "<tr>\n",
       "  <th>Dep. Variable:</th>          <td>Price</td>      <th>  R-squared:         </th> <td>   0.038</td>\n",
       "</tr>\n",
       "<tr>\n",
       "  <th>Model:</th>                   <td>OLS</td>       <th>  Adj. R-squared:    </th> <td>   0.010</td>\n",
       "</tr>\n",
       "<tr>\n",
       "  <th>Method:</th>             <td>Least Squares</td>  <th>  F-statistic:       </th> <td>   1.340</td>\n",
       "</tr>\n",
       "<tr>\n",
       "  <th>Date:</th>             <td>Thu, 01 Jun 2017</td> <th>  Prob (F-statistic):</th>  <td> 0.269</td> \n",
       "</tr>\n",
       "<tr>\n",
       "  <th>Time:</th>                 <td>20:01:51</td>     <th>  Log-Likelihood:    </th> <td> -1030.2</td>\n",
       "</tr>\n",
       "<tr>\n",
       "  <th>No. Observations:</th>      <td>    70</td>      <th>  AIC:               </th> <td>   2066.</td>\n",
       "</tr>\n",
       "<tr>\n",
       "  <th>Df Residuals:</th>          <td>    67</td>      <th>  BIC:               </th> <td>   2073.</td>\n",
       "</tr>\n",
       "<tr>\n",
       "  <th>Df Model:</th>              <td>     2</td>      <th>                     </th>     <td> </td>   \n",
       "</tr>\n",
       "<tr>\n",
       "  <th>Covariance Type:</th>      <td>nonrobust</td>    <th>                     </th>     <td> </td>   \n",
       "</tr>\n",
       "</table>\n",
       "<table class=\"simpletable\">\n",
       "<tr>\n",
       "        <td></td>           <th>coef</th>     <th>std err</th>      <th>t</th>      <th>P>|t|</th> <th>[95.0% Conf. Int.]</th> \n",
       "</tr>\n",
       "<tr>\n",
       "  <th>Intercept</th>     <td> 5.083e+05</td> <td> 2.05e+05</td> <td>    2.478</td> <td> 0.016</td> <td> 9.89e+04  9.18e+05</td>\n",
       "</tr>\n",
       "<tr>\n",
       "  <th>Bath</th>          <td>  -2.9e+04</td> <td> 1.16e+05</td> <td>   -0.250</td> <td> 0.803</td> <td>-2.61e+05  2.03e+05</td>\n",
       "</tr>\n",
       "<tr>\n",
       "  <th>HouseSizeSqft</th> <td>  133.0119</td> <td>   99.854</td> <td>    1.332</td> <td> 0.187</td> <td>  -66.297   332.321</td>\n",
       "</tr>\n",
       "</table>\n",
       "<table class=\"simpletable\">\n",
       "<tr>\n",
       "  <th>Omnibus:</th>       <td>85.337</td> <th>  Durbin-Watson:     </th> <td>   1.175</td> \n",
       "</tr>\n",
       "<tr>\n",
       "  <th>Prob(Omnibus):</th> <td> 0.000</td> <th>  Jarque-Bera (JB):  </th> <td> 891.863</td> \n",
       "</tr>\n",
       "<tr>\n",
       "  <th>Skew:</th>          <td> 3.754</td> <th>  Prob(JB):          </th> <td>2.16e-194</td>\n",
       "</tr>\n",
       "<tr>\n",
       "  <th>Kurtosis:</th>      <td>18.793</td> <th>  Cond. No.          </th> <td>7.19e+03</td> \n",
       "</tr>\n",
       "</table>"
      ],
      "text/plain": [
       "<class 'statsmodels.iolib.summary.Summary'>\n",
       "\"\"\"\n",
       "                            OLS Regression Results                            \n",
       "==============================================================================\n",
       "Dep. Variable:                  Price   R-squared:                       0.038\n",
       "Model:                            OLS   Adj. R-squared:                  0.010\n",
       "Method:                 Least Squares   F-statistic:                     1.340\n",
       "Date:                Thu, 01 Jun 2017   Prob (F-statistic):              0.269\n",
       "Time:                        20:01:51   Log-Likelihood:                -1030.2\n",
       "No. Observations:                  70   AIC:                             2066.\n",
       "Df Residuals:                      67   BIC:                             2073.\n",
       "Df Model:                           2                                         \n",
       "Covariance Type:            nonrobust                                         \n",
       "=================================================================================\n",
       "                    coef    std err          t      P>|t|      [95.0% Conf. Int.]\n",
       "---------------------------------------------------------------------------------\n",
       "Intercept      5.083e+05   2.05e+05      2.478      0.016      9.89e+04  9.18e+05\n",
       "Bath            -2.9e+04   1.16e+05     -0.250      0.803     -2.61e+05  2.03e+05\n",
       "HouseSizeSqft   133.0119     99.854      1.332      0.187       -66.297   332.321\n",
       "==============================================================================\n",
       "Omnibus:                       85.337   Durbin-Watson:                   1.175\n",
       "Prob(Omnibus):                  0.000   Jarque-Bera (JB):              891.863\n",
       "Skew:                           3.754   Prob(JB):                    2.16e-194\n",
       "Kurtosis:                      18.793   Cond. No.                     7.19e+03\n",
       "==============================================================================\n",
       "\n",
       "Warnings:\n",
       "[1] Standard Errors assume that the covariance matrix of the errors is correctly specified.\n",
       "[2] The condition number is large, 7.19e+03. This might indicate that there are\n",
       "strong multicollinearity or other numerical problems.\n",
       "\"\"\""
      ]
     },
     "execution_count": 11,
     "metadata": {},
     "output_type": "execute_result"
    }
   ],
   "source": [
    "lm.summary()"
   ]
  },
  {
   "cell_type": "code",
   "execution_count": 12,
   "metadata": {
    "collapsed": false
   },
   "outputs": [
    {
     "data": {
      "text/plain": [
       "467873.02"
      ]
     },
     "execution_count": 12,
     "metadata": {},
     "output_type": "execute_result"
    }
   ],
   "source": [
    "# What would you expect a house price to be for a house with 3 bathrooms and 350 sqft?\n",
    "# Calculate it.\n",
    "508310 -28995.66*3 + 133*350"
   ]
  },
  {
   "cell_type": "markdown",
   "metadata": {},
   "source": [
    "## Student Excercise"
   ]
  },
  {
   "cell_type": "markdown",
   "metadata": {},
   "source": [
    "Now try creating a regression from just the EstimatedPrice"
   ]
  },
  {
   "cell_type": "code",
   "execution_count": 17,
   "metadata": {
    "collapsed": false
   },
   "outputs": [
    {
     "data": {
      "text/plain": [
       "<seaborn.axisgrid.FacetGrid at 0x199282f90b8>"
      ]
     },
     "execution_count": 17,
     "metadata": {},
     "output_type": "execute_result"
    },
    {
     "data": {
      "image/png": "[encoded data removed]",
      "text/plain": [
       "<matplotlib.figure.Figure at 0x199282f9a58>"
      ]
     },
     "metadata": {},
     "output_type": "display_data"
    }
   ],
   "source": [
    "# check the distribution of Price vs. EstimatedPrice using a scatterplot\n",
    "import seaborn as sns\n",
    "sns.set_style(\"darkgrid\")\n",
    "\n",
    "sns.lmplot(y='Price', x='EstimatedPrice', data=house_data)"
   ]
  },
  {
   "cell_type": "code",
   "execution_count": 26,
   "metadata": {
    "collapsed": false
   },
   "outputs": [
    {
     "data": {
      "text/plain": [
       "Intercept         2371.037940\n",
       "EstimatedPrice       0.989389\n",
       "dtype: float64"
      ]
     },
     "execution_count": 26,
     "metadata": {},
     "output_type": "execute_result"
    }
   ],
   "source": [
    "# Let's try just modelling just using the estimated price\n",
    "# create a fitted model in one line\n",
    "lm = smf.ols(formula='Price ~ EstimatedPrice ', data=house_data).fit()\n",
    "\n",
    "# print the coefficients\n",
    "lm.params"
   ]
  },
  {
   "cell_type": "code",
   "execution_count": 24,
   "metadata": {
    "collapsed": false
   },
   "outputs": [
    {
     "data": {
      "text/html": [
       "<table class=\"simpletable\">\n",
       "<caption>OLS Regression Results</caption>\n",
       "<tr>\n",
       "  <th>Dep. Variable:</th>          <td>Price</td>      <th>  R-squared:         </th> <td>   0.059</td>\n",
       "</tr>\n",
       "<tr>\n",
       "  <th>Model:</th>                   <td>OLS</td>       <th>  Adj. R-squared:    </th> <td>   0.002</td>\n",
       "</tr>\n",
       "<tr>\n",
       "  <th>Method:</th>             <td>Least Squares</td>  <th>  F-statistic:       </th> <td>   1.027</td>\n",
       "</tr>\n",
       "<tr>\n",
       "  <th>Date:</th>             <td>Thu, 01 Jun 2017</td> <th>  Prob (F-statistic):</th>  <td> 0.400</td> \n",
       "</tr>\n",
       "<tr>\n",
       "  <th>Time:</th>                 <td>20:17:36</td>     <th>  Log-Likelihood:    </th> <td> -1029.4</td>\n",
       "</tr>\n",
       "<tr>\n",
       "  <th>No. Observations:</th>      <td>    70</td>      <th>  AIC:               </th> <td>   2069.</td>\n",
       "</tr>\n",
       "<tr>\n",
       "  <th>Df Residuals:</th>          <td>    65</td>      <th>  BIC:               </th> <td>   2080.</td>\n",
       "</tr>\n",
       "<tr>\n",
       "  <th>Df Model:</th>              <td>     4</td>      <th>                     </th>     <td> </td>   \n",
       "</tr>\n",
       "<tr>\n",
       "  <th>Covariance Type:</th>      <td>nonrobust</td>    <th>                     </th>     <td> </td>   \n",
       "</tr>\n",
       "</table>\n",
       "<table class=\"simpletable\">\n",
       "<tr>\n",
       "        <td></td>           <th>coef</th>     <th>std err</th>      <th>t</th>      <th>P>|t|</th> <th>[95.0% Conf. Int.]</th> \n",
       "</tr>\n",
       "<tr>\n",
       "  <th>Intercept</th>     <td> 7.779e+05</td> <td> 3.17e+05</td> <td>    2.457</td> <td> 0.017</td> <td> 1.46e+05  1.41e+06</td>\n",
       "</tr>\n",
       "<tr>\n",
       "  <th>Bath</th>          <td>-7.455e+04</td> <td> 1.23e+05</td> <td>   -0.608</td> <td> 0.545</td> <td> -3.2e+05   1.7e+05</td>\n",
       "</tr>\n",
       "<tr>\n",
       "  <th>HouseSizeSqft</th> <td>  180.8310</td> <td>  108.004</td> <td>    1.674</td> <td> 0.099</td> <td>  -34.867   396.529</td>\n",
       "</tr>\n",
       "<tr>\n",
       "  <th>Age</th>           <td>-1382.0405</td> <td> 1396.835</td> <td>   -0.989</td> <td> 0.326</td> <td>-4171.713  1407.632</td>\n",
       "</tr>\n",
       "<tr>\n",
       "  <th>SchoolIndex</th>   <td>-3436.8899</td> <td> 4268.998</td> <td>   -0.805</td> <td> 0.424</td> <td> -1.2e+04  5088.887</td>\n",
       "</tr>\n",
       "</table>\n",
       "<table class=\"simpletable\">\n",
       "<tr>\n",
       "  <th>Omnibus:</th>       <td>87.696</td> <th>  Durbin-Watson:     </th> <td>   1.131</td> \n",
       "</tr>\n",
       "<tr>\n",
       "  <th>Prob(Omnibus):</th> <td> 0.000</td> <th>  Jarque-Bera (JB):  </th> <td> 983.027</td> \n",
       "</tr>\n",
       "<tr>\n",
       "  <th>Skew:</th>          <td> 3.872</td> <th>  Prob(JB):          </th> <td>3.46e-214</td>\n",
       "</tr>\n",
       "<tr>\n",
       "  <th>Kurtosis:</th>      <td>19.646</td> <th>  Cond. No.          </th> <td>1.07e+04</td> \n",
       "</tr>\n",
       "</table>"
      ],
      "text/plain": [
       "<class 'statsmodels.iolib.summary.Summary'>\n",
       "\"\"\"\n",
       "                            OLS Regression Results                            \n",
       "==============================================================================\n",
       "Dep. Variable:                  Price   R-squared:                       0.059\n",
       "Model:                            OLS   Adj. R-squared:                  0.002\n",
       "Method:                 Least Squares   F-statistic:                     1.027\n",
       "Date:                Thu, 01 Jun 2017   Prob (F-statistic):              0.400\n",
       "Time:                        20:17:36   Log-Likelihood:                -1029.4\n",
       "No. Observations:                  70   AIC:                             2069.\n",
       "Df Residuals:                      65   BIC:                             2080.\n",
       "Df Model:                           4                                         \n",
       "Covariance Type:            nonrobust                                         \n",
       "=================================================================================\n",
       "                    coef    std err          t      P>|t|      [95.0% Conf. Int.]\n",
       "---------------------------------------------------------------------------------\n",
       "Intercept      7.779e+05   3.17e+05      2.457      0.017      1.46e+05  1.41e+06\n",
       "Bath          -7.455e+04   1.23e+05     -0.608      0.545      -3.2e+05   1.7e+05\n",
       "HouseSizeSqft   180.8310    108.004      1.674      0.099       -34.867   396.529\n",
       "Age           -1382.0405   1396.835     -0.989      0.326     -4171.713  1407.632\n",
       "SchoolIndex   -3436.8899   4268.998     -0.805      0.424      -1.2e+04  5088.887\n",
       "==============================================================================\n",
       "Omnibus:                       87.696   Durbin-Watson:                   1.131\n",
       "Prob(Omnibus):                  0.000   Jarque-Bera (JB):              983.027\n",
       "Skew:                           3.872   Prob(JB):                    3.46e-214\n",
       "Kurtosis:                      19.646   Cond. No.                     1.07e+04\n",
       "==============================================================================\n",
       "\n",
       "Warnings:\n",
       "[1] Standard Errors assume that the covariance matrix of the errors is correctly specified.\n",
       "[2] The condition number is large, 1.07e+04. This might indicate that there are\n",
       "strong multicollinearity or other numerical problems.\n",
       "\"\"\""
      ]
     },
     "execution_count": 24,
     "metadata": {},
     "output_type": "execute_result"
    }
   ],
   "source": [
    "lm.summary()"
   ]
  },
  {
   "cell_type": "markdown",
   "metadata": {},
   "source": [
    "### Question:\n",
    "Did the model build on just Estimated Price have a better R-Squared value than the prior model built using Bath and HouseSizeSqft?"
   ]
  },
  {
   "cell_type": "markdown",
   "metadata": {},
   "source": [
    "### Predicting Price using the built model"
   ]
  },
  {
   "cell_type": "markdown",
   "metadata": {},
   "source": [
    "\n",
    "Now we will find out what the model estimates the price will be for the the minimum and maximium values of EstimatedPrice"
   ]
  },
  {
   "cell_type": "code",
   "execution_count": 22,
   "metadata": {
    "collapsed": false
   },
   "outputs": [
    {
     "data": {
      "text/html": [
       "<div>\n",
       "<table border=\"1\" class=\"dataframe\">\n",
       "  <thead>\n",
       "    <tr style=\"text-align: right;\">\n",
       "      <th></th>\n",
       "      <th>EstimatedPrice</th>\n",
       "    </tr>\n",
       "  </thead>\n",
       "  <tbody>\n",
       "    <tr>\n",
       "      <th>0</th>\n",
       "      <td>28836.5</td>\n",
       "    </tr>\n",
       "    <tr>\n",
       "      <th>1</th>\n",
       "      <td>3973508.0</td>\n",
       "    </tr>\n",
       "  </tbody>\n",
       "</table>\n",
       "</div>"
      ],
      "text/plain": [
       "   EstimatedPrice\n",
       "0         28836.5\n",
       "1       3973508.0"
      ]
     },
     "execution_count": 22,
     "metadata": {},
     "output_type": "execute_result"
    }
   ],
   "source": [
    "# create a DataFrame with the minimum and maximum values of EstimatedPrice\n",
    "# these values will be be used in the built model to predict the Price\n",
    "X_new = pd.DataFrame({'EstimatedPrice': [house_data.EstimatedPrice.min(), house_data.EstimatedPrice.max()]})\n",
    "X_new.head()"
   ]
  },
  {
   "cell_type": "code",
   "execution_count": 27,
   "metadata": {
    "collapsed": false
   },
   "outputs": [
    {
     "data": {
      "text/plain": [
       "array([   30901.56354902,  3933717.48261279])"
      ]
     },
     "execution_count": 27,
     "metadata": {},
     "output_type": "execute_result"
    }
   ],
   "source": [
    "# predict price given two data points and the built model\n",
    "\n",
    "preds = lm.predict(X_new)\n",
    "preds"
   ]
  },
  {
   "cell_type": "markdown",
   "metadata": {},
   "source": [
    "Now lets view a line representing the model build off just Estimated Price, over a scatter plot of the data of Price vs. EstimatedPrice.\n",
    "\n",
    "To produce the line overlay, we will simply plot a straight line between the two predicted points over the scatter plot. "
   ]
  },
  {
   "cell_type": "code",
   "execution_count": 28,
   "metadata": {
    "collapsed": false
   },
   "outputs": [
    {
     "data": {
      "text/plain": [
       "<matplotlib.axes._subplots.AxesSubplot at 0x19928c40208>"
      ]
     },
     "execution_count": 28,
     "metadata": {},
     "output_type": "execute_result"
    },
    {
     "data": {
      "image/png": "[encoded data removed]",
      "text/plain": [
       "<matplotlib.figure.Figure at 0x199283294e0>"
      ]
     },
     "metadata": {},
     "output_type": "display_data"
    }
   ],
   "source": [
    "# first, plot the observed data\n",
    "house_data.plot(kind='scatter', x='EstimatedPrice', y='Price')"
   ]
  },
  {
   "cell_type": "code",
   "execution_count": 30,
   "metadata": {
    "collapsed": false
   },
   "outputs": [
    {
     "data": {
      "text/plain": [
       "[<matplotlib.lines.Line2D at 0x19928d4f780>]"
      ]
     },
     "execution_count": 30,
     "metadata": {},
     "output_type": "execute_result"
    },
    {
     "data": {
      "image/png": "[encoded data removed]",
      "text/plain": [
       "<matplotlib.figure.Figure at 0x19928d4acf8>"
      ]
     },
     "metadata": {},
     "output_type": "display_data"
    }
   ],
   "source": [
    "# Now, plot a line over the points that uses just the two points\n",
    "house_data.plot(kind='scatter', x='EstimatedPrice', y='Price')\n",
    "# this code overlays a straight line between the the coordinates created by X_new and preds\n",
    "plt.plot(X_new, preds, c='purple', linewidth=2)"
   ]
  },
  {
   "cell_type": "markdown",
   "metadata": {
    "collapsed": true
   },
   "source": [
    "### Experiment\n",
    "Now try creating new models by selecting different variables or combinations of variables. Can you get a better fit?"
   ]
  },
  {
   "cell_type": "code",
   "execution_count": 87,
   "metadata": {
    "collapsed": false
   },
   "outputs": [
    {
     "data": {
      "text/plain": [
       "(str, str, str, int, float, float, int, float, int, int, int, float, float)"
      ]
     },
     "execution_count": 87,
     "metadata": {},
     "output_type": "execute_result"
    }
   ],
   "source": [
    "import pandas as pd\n",
    "import numpy as np\n",
    "\n",
    "house_data = pd.read_csv(\"chicagohouseprices2.csv\", index_col=0)\n",
    "house_nparray = house_data.values\n",
    "type(house_nparray[0,0]),type(house_nparray[0,1]),type(house_nparray[0,2]),type(house_nparray[0,3]),type(house_nparray[0,4]),type(house_nparray[0,5]),type(house_nparray[0,6]),type(house_nparray[0,7]),type(house_nparray[0,8]),type(house_nparray[0,9]),type(house_nparray[0,10]),type(house_nparray[0,11]),type(house_nparray[0,12])"
   ]
  },
  {
   "cell_type": "code",
   "execution_count": null,
   "metadata": {
    "collapsed": true
   },
   "outputs": [],
   "source": [
    "house_nparray.drop[]"
   ]
  },
  {
   "cell_type": "markdown",
   "metadata": {},
   "source": [
    "## Themepark "
   ]
  },
  {
   "cell_type": "markdown",
   "metadata": {},
   "source": [
    "The file **themepark.csv** has some data from a theme park. Children were asked to rate their experience on a scale\n",
    "from 0-5. This data was compared against the number of hours they spent in the park."
   ]
  },
  {
   "cell_type": "code",
   "execution_count": null,
   "metadata": {
    "collapsed": false
   },
   "outputs": [],
   "source": [
    "!ls "
   ]
  },
  {
   "cell_type": "code",
   "execution_count": null,
   "metadata": {
    "collapsed": true
   },
   "outputs": [],
   "source": [
    "# Create a pandas DataFrame from this data by reading it in using pandas. \n",
    "# It is located in the same directory as this notebook, so you will not need to provide a filepath."
   ]
  },
  {
   "cell_type": "code",
   "execution_count": null,
   "metadata": {
    "collapsed": true
   },
   "outputs": [],
   "source": [
    "# Have a look at the data (e.g. display the head or tail, use describe, etc.)"
   ]
  },
  {
   "cell_type": "code",
   "execution_count": null,
   "metadata": {
    "collapsed": true
   },
   "outputs": [],
   "source": [
    "# Draw a scatterplot of this data."
   ]
  },
  {
   "cell_type": "code",
   "execution_count": null,
   "metadata": {
    "collapsed": true
   },
   "outputs": [],
   "source": [
    "# Try doing a linear regression on this data"
   ]
  },
  {
   "cell_type": "code",
   "execution_count": null,
   "metadata": {
    "collapsed": true
   },
   "outputs": [],
   "source": [
    "# Plot this regression over the top of the data. Could the regression be better?"
   ]
  },
  {
   "cell_type": "code",
   "execution_count": null,
   "metadata": {
    "collapsed": true
   },
   "outputs": [],
   "source": []
  }
 ],
 "metadata": {
  "anaconda-cloud": {},
  "kernelspec": {
   "display_name": "Python 3",
   "language": "python",
   "name": "python3"
  },
  "language_info": {
   "codemirror_mode": {
    "name": "ipython",
    "version": 3
   },
   "file_extension": ".py",
   "mimetype": "text/x-python",
   "name": "python",
   "nbconvert_exporter": "python",
   "pygments_lexer": "ipython3",
   "version": "3.6.0"
  }
 },
 "nbformat": 4,
 "nbformat_minor": 0
}
